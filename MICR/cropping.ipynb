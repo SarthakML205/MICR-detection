{
 "cells": [
  {
   "cell_type": "code",
   "execution_count": 1,
   "metadata": {},
   "outputs": [
    {
     "name": "stdout",
     "output_type": "stream",
     "text": [
      "255\n",
      "c524000c 695240002a 045504c 31\n",
      "\n"
     ]
    }
   ],
   "source": [
    "import cv2 \n",
    "import numpy as np \n",
    "import pytesseract\n",
    "from PIL import Image\n",
    "from io import BytesIO\n",
    "\n",
    "img = cv2.imread('hdfcbank1.jpg')\n",
    "\n",
    "flag = False\n",
    "ix = -1\n",
    "iy = -1\n",
    "\n",
    "def crop(event ,x,y,flags, param):\n",
    "    global flag, ix, iy\n",
    "    \n",
    "    if event == 1:\n",
    "        flag = True\n",
    "        ix =x\n",
    "        iy =y\n",
    "    \n",
    "    elif event == 4:\n",
    "        fx = x\n",
    "        fy =y\n",
    "        \n",
    "        flag = False\n",
    "        cv2.rectangle(img, pt1 = (ix,iy), pt2= (x,y),thickness= 1,color= (0,0,0))\n",
    "        cropped = img[iy:fy, ix:fx]\n",
    "        cv2.imwrite('micrcode.jpg',cropped)\n",
    "        cv2.imshow('window', cropped)\n",
    "        cv2.waitKey(0)\n",
    "\n",
    "\n",
    "cv2.namedWindow(winname='window')\n",
    "cv2.setMouseCallback(\"window\", crop)\n",
    "\n",
    "\n",
    "while True:\n",
    "    cv2.imshow(\"window\", img)\n",
    "    \n",
    "    k = cv2.waitKey(0) & 0xFF\n",
    "    print(k)\n",
    "    if k == 27:  # close on ESC key\n",
    "      cv2.destroyAllWindows()\n",
    "    break\n",
    "\n",
    "micrimg = cv2.imread('micrcode.jpg')\n",
    "print(pytesseract.image_to_string(micrimg, lang = 'mcr'))\n",
    "\n",
    "cv2.destroyAllWindows()"
   ]
  },
  {
   "cell_type": "code",
   "execution_count": 2,
   "metadata": {},
   "outputs": [
    {
     "name": "stdout",
     "output_type": "stream",
     "text": [
      "c524000c 695240002a 045504c 31\n",
      "\n"
     ]
    }
   ],
   "source": [
    "micrimg = cv2.imread('micrcode.jpg')\n",
    "print(pytesseract.image_to_string(micrimg, lang = 'mcr'))"
   ]
  },
  {
   "attachments": {},
   "cell_type": "markdown",
   "metadata": {},
   "source": [
    "⑆ - (transit: used to delimit a bank code),A\n",
    "\n",
    "⑈ - (on-us: used to delimit a customer account number),C\n",
    "\n",
    "⑇ - (amount: used to delimit a transaction amount),B\n",
    "\n",
    "⑉ - (dash: used to delimit parts of numbers—e.g., routing numbers or account numbers).D"
   ]
  },
  {
   "attachments": {},
   "cell_type": "markdown",
   "metadata": {},
   "source": [
    "first it is cheque number \n",
    "\n",
    "then micr code\n",
    "\n",
    "RBI bank code\n",
    "\n",
    "transation code"
   ]
  }
 ],
 "metadata": {
  "kernelspec": {
   "display_name": "Python 3",
   "language": "python",
   "name": "python3"
  },
  "language_info": {
   "codemirror_mode": {
    "name": "ipython",
    "version": 3
   },
   "file_extension": ".py",
   "mimetype": "text/x-python",
   "name": "python",
   "nbconvert_exporter": "python",
   "pygments_lexer": "ipython3",
   "version": "3.9.6"
  },
  "orig_nbformat": 4,
  "vscode": {
   "interpreter": {
    "hash": "271b2e7b29a5b4a873b15b1e633f4dc6fdafed98dcc66ebc48378242f97fc4f3"
   }
  }
 },
 "nbformat": 4,
 "nbformat_minor": 2
}
